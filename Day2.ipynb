{
 "cells": [
  {
   "cell_type": "markdown",
   "id": "fe13f040",
   "metadata": {},
   "source": [
    "## Day 2"
   ]
  },
  {
   "cell_type": "markdown",
   "id": "867d583c",
   "metadata": {},
   "source": [
    "#### Data type"
   ]
  },
  {
   "cell_type": "code",
   "execution_count": 3,
   "id": "70124912",
   "metadata": {},
   "outputs": [
    {
     "name": "stdout",
     "output_type": "stream",
     "text": [
      "H\n"
     ]
    }
   ],
   "source": [
    "# string\n",
    "print('Hello'[0])\n",
    "#int\n",
    "#float\n",
    "#boolean"
   ]
  },
  {
   "cell_type": "code",
   "execution_count": 6,
   "id": "0fba5c99",
   "metadata": {},
   "outputs": [
    {
     "data": {
      "text/plain": [
       "False"
      ]
     },
     "execution_count": 6,
     "metadata": {},
     "output_type": "execute_result"
    }
   ],
   "source": [
    "True\n",
    "False"
   ]
  },
  {
   "cell_type": "code",
   "execution_count": 7,
   "id": "35fda917",
   "metadata": {},
   "outputs": [
    {
     "ename": "TypeError",
     "evalue": "object of type 'int' has no len()",
     "output_type": "error",
     "traceback": [
      "\u001b[1;31m---------------------------------------------------------------------------\u001b[0m",
      "\u001b[1;31mTypeError\u001b[0m                                 Traceback (most recent call last)",
      "\u001b[1;32mC:\\Users\\RAVIVI~1\\AppData\\Local\\Temp/ipykernel_9548/4024414573.py\u001b[0m in \u001b[0;36m<module>\u001b[1;34m\u001b[0m\n\u001b[1;32m----> 1\u001b[1;33m \u001b[0mlen\u001b[0m\u001b[1;33m(\u001b[0m\u001b[1;36m76374237\u001b[0m\u001b[1;33m)\u001b[0m\u001b[1;33m\u001b[0m\u001b[1;33m\u001b[0m\u001b[0m\n\u001b[0m",
      "\u001b[1;31mTypeError\u001b[0m: object of type 'int' has no len()"
     ]
    }
   ],
   "source": [
    "len(76374237) #len() doesn'nt work for number"
   ]
  },
  {
   "cell_type": "code",
   "execution_count": 9,
   "id": "35f5ea71",
   "metadata": {},
   "outputs": [
    {
     "name": "stdout",
     "output_type": "stream",
     "text": [
      "what is your name?RAvi Vishwakarma\n",
      "your name has16characters\n"
     ]
    }
   ],
   "source": [
    "#string concatanation work with only strings\n",
    "#examle\n",
    "name = input(\"what is your name?\")\n",
    "length = len(name) #here we have to make this int type variable into string type\n",
    "length_str = str(length)\n",
    "print('your name has'+ length_str+ 'characters')"
   ]
  },
  {
   "cell_type": "markdown",
   "id": "7faa18ce",
   "metadata": {},
   "source": [
    "##### exercise"
   ]
  },
  {
   "cell_type": "code",
   "execution_count": 6,
   "id": "1634a792",
   "metadata": {},
   "outputs": [
    {
     "name": "stdout",
     "output_type": "stream",
     "text": [
      "enter a two digit number78\n",
      "15\n"
     ]
    }
   ],
   "source": [
    "# i have to take two digit number and the add their digit value\n",
    "two_digit_num = input(\"enter a two digit number\") #input things are always string\n",
    "type(two_digit_num)\n",
    "first_digit = two_digit_num[0]\n",
    "second_digit = two_digit_num[1]\n",
    "print(int(first_digit) + int(second_digit))"
   ]
  },
  {
   "cell_type": "code",
   "execution_count": 12,
   "id": "cf37586e",
   "metadata": {},
   "outputs": [
    {
     "name": "stdout",
     "output_type": "stream",
     "text": [
      "True\n",
      "1.75\n",
      "4\n",
      "30\n",
      "2\n"
     ]
    }
   ],
   "source": [
    "# MATHEMATICS OPERATIONS\n",
    "3 + 3\n",
    "5 - 4\n",
    "print(7 ==  7)\n",
    "print(7/4)\n",
    "print(2**2) #power operation\n",
    "print(6*5)\n",
    "print(5%3)\n",
    "# \"PEDMAS\" it is the order of operation and runs from left to right \n",
    "#()\n",
    "#**\n",
    "#/\n",
    "#*\n",
    "#+\n",
    "#-"
   ]
  },
  {
   "cell_type": "markdown",
   "id": "4495a9b9",
   "metadata": {},
   "source": [
    "#### exercise"
   ]
  },
  {
   "cell_type": "code",
   "execution_count": null,
   "id": "7e4aa378",
   "metadata": {},
   "outputs": [],
   "source": [
    "# bmi = weight(kg)/ height^2(m^2)  BMI calculator\n",
    "height = input(\"what is your height in meter\")\n",
    "weight = input(\"what is your weight in Killograms\")\n",
    "height_int = float(height)\n",
    "weight_int = float(weight)\n",
    "# BMI calculator formula is BMI = weight(kg)/ height^2(m^2)\n",
    "BMI = weight_int/ height_int**2\n",
    "print(int(BMI))"
   ]
  },
  {
   "cell_type": "code",
   "execution_count": 4,
   "id": "ae6a3f8a",
   "metadata": {},
   "outputs": [
    {
     "name": "stdout",
     "output_type": "stream",
     "text": [
      "1.14286\n"
     ]
    }
   ],
   "source": [
    "# round\n",
    "print(round(8/7,5)) # after comma it shows that how many number you want to stay for round"
   ]
  },
  {
   "cell_type": "code",
   "execution_count": 5,
   "id": "12736d68",
   "metadata": {},
   "outputs": [
    {
     "name": "stdout",
     "output_type": "stream",
     "text": [
      "14\n"
     ]
    }
   ],
   "source": [
    "# round to a integer can be done by // also \n",
    "print(87//6)"
   ]
  },
  {
   "cell_type": "code",
   "execution_count": 8,
   "id": "5f23aad1",
   "metadata": {},
   "outputs": [
    {
     "name": "stdout",
     "output_type": "stream",
     "text": [
      "60\n"
     ]
    }
   ],
   "source": [
    "score  = 30\n",
    "score *=2 # it is used to update the values \n",
    "print(score)"
   ]
  },
  {
   "cell_type": "code",
   "execution_count": 10,
   "id": "c03208a4",
   "metadata": {},
   "outputs": [
    {
     "name": "stdout",
     "output_type": "stream",
     "text": [
      "your height is 1.68\n"
     ]
    }
   ],
   "source": [
    "# f-string\n",
    "# f-string is used to add different set of data type in single variable or...... see example\n",
    "height = 1.68\n",
    "print(f\"your height is {height}\") #syntax of f-string"
   ]
  },
  {
   "cell_type": "markdown",
   "id": "0697f653",
   "metadata": {},
   "source": [
    "###### exrcise 2.3"
   ]
  },
  {
   "cell_type": "code",
   "execution_count": 14,
   "id": "7fe5ffdd",
   "metadata": {},
   "outputs": [
    {
     "name": "stdout",
     "output_type": "stream",
     "text": [
      " what is your current age22\n",
      "68\n",
      "816\n",
      "42432\n",
      "297024\n"
     ]
    }
   ],
   "source": [
    "# let suppose we live for 90 years, so i have calculate that how many years, months, weeks and days were left in remaining life\n",
    "current_age = input(\" what is your current age\")\n",
    "year_left = 90-int(current_age)\n",
    "print(year_left)\n",
    "month_left = 12*year_left\n",
    "print(month_left)\n",
    "week_left = 52*month_left\n",
    "print(week_left)\n",
    "days_left = 7*week_left\n",
    "print(days_left)"
   ]
  },
  {
   "cell_type": "markdown",
   "id": "5eaf34ab",
   "metadata": {},
   "source": [
    "#### project day2"
   ]
  },
  {
   "cell_type": "code",
   "execution_count": 19,
   "id": "7a4e9ca9",
   "metadata": {},
   "outputs": [
    {
     "name": "stdout",
     "output_type": "stream",
     "text": [
      "what is total amount as a bill500\n",
      "what is number of people in the group8\n",
      "what percentage of total bill you want to as a tip15\n",
      "71.88\n"
     ]
    }
   ],
   "source": [
    "# We have to make a calculator which is used to calculate the final money per head after taking dinner in a restaurant  in a group of 8 people\n",
    "# with some percentage of tip of total bill so lets start\n",
    "total_bill = input('what is total amount as a bill without tip')\n",
    "no_of_people =input('what is number of people in the group')\n",
    "tip = input(\"what percentage of total bill you want to as a tip\")\n",
    "final_total = float(total_bill) + (float(tip)/100)*float(total_bill)\n",
    "money_per_head = float(final_total)/int(no_of_people)\n",
    "print(round(float(money_per_head),2))\n",
    "print(f\"bill per person is {})\n",
    "#completed\n"
   ]
  },
  {
   "cell_type": "code",
   "execution_count": null,
   "id": "520a5dd6",
   "metadata": {},
   "outputs": [],
   "source": []
  }
 ],
 "metadata": {
  "kernelspec": {
   "display_name": "Python 3 (ipykernel)",
   "language": "python",
   "name": "python3"
  },
  "language_info": {
   "codemirror_mode": {
    "name": "ipython",
    "version": 3
   },
   "file_extension": ".py",
   "mimetype": "text/x-python",
   "name": "python",
   "nbconvert_exporter": "python",
   "pygments_lexer": "ipython3",
   "version": "3.9.7"
  }
 },
 "nbformat": 4,
 "nbformat_minor": 5
}
